{
 "cells": [
  {
   "cell_type": "markdown",
   "metadata": {},
   "source": [
    "# Zero Shot"
   ]
  },
  {
   "cell_type": "code",
   "execution_count": null,
   "metadata": {},
   "outputs": [],
   "source": [
    "import langchain \n",
    "from langchain import PromptTemplate, LLMChain\n",
    "from langchain_groq import ChatGroq\n",
    "llm = ChatGroq(temperature=1, model_name=\"llama3-70b-8192\",groq_api_key=\"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\")"
   ]
  },
  {
   "cell_type": "code",
   "execution_count": null,
   "metadata": {},
   "outputs": [],
   "source": [
    "msg = llm.invoke(\"Given the data in Data.csv, Which station recorded the highest PM2.5 level in March 2023 in India?\")\n",
    "print(msg.content)"
   ]
  },
  {
   "cell_type": "markdown",
   "metadata": {},
   "source": [
    "# Zero Shot with csv file loading. "
   ]
  },
  {
   "cell_type": "code",
   "execution_count": 14,
   "metadata": {},
   "outputs": [
    {
     "data": {
      "text/plain": [
       "1000"
      ]
     },
     "execution_count": 14,
     "metadata": {},
     "output_type": "execute_result"
    }
   ],
   "source": [
    "import pandas as pd\n",
    "df = pd.read_csv('Data.csv')\n",
    "# Choose 1000 rows such that none of them contain a nan value\n",
    "df = df.dropna().sample(1000)\n",
    "df.to_csv('Time.csv')\n",
    "df = pd.read_csv('Time.csv')\n",
    "len(df)"
   ]
  },
  {
   "cell_type": "code",
   "execution_count": 15,
   "metadata": {},
   "outputs": [
    {
     "data": {
      "text/plain": [
       "Index(['Unnamed: 0', 'Timestamp', 'station', 'PM2.5', 'PM10', 'address',\n",
       "       'city', 'latitude', 'longitude', 'state'],\n",
       "      dtype='object')"
      ]
     },
     "execution_count": 15,
     "metadata": {},
     "output_type": "execute_result"
    }
   ],
   "source": [
    "df.columns"
   ]
  },
  {
   "cell_type": "code",
   "execution_count": 47,
   "metadata": {},
   "outputs": [],
   "source": [
    "from langchain_community.document_loaders.csv_loader import CSVLoader\n",
    "loader = CSVLoader(file_path='Time.csv') #,metadata_columns=['Timestamp','station','address','city','latitude','longitude','state']\n",
    "data = loader.load()"
   ]
  },
  {
   "cell_type": "code",
   "execution_count": 49,
   "metadata": {},
   "outputs": [],
   "source": [
    "from langchain_text_splitters import CharacterTextSplitter\n",
    "text_splitter = CharacterTextSplitter(chunk_size=10,chunk_overlap = 0)\n",
    "chunked_data = text_splitter.split_documents(data)"
   ]
  },
  {
   "cell_type": "code",
   "execution_count": 50,
   "metadata": {},
   "outputs": [],
   "source": [
    "# chunked_data[0]"
   ]
  },
  {
   "cell_type": "code",
   "execution_count": 51,
   "metadata": {},
   "outputs": [],
   "source": [
    "from langchain_community.embeddings import HuggingFaceEmbeddings\n",
    "embeddings = HuggingFaceEmbeddings()"
   ]
  },
  {
   "cell_type": "code",
   "execution_count": 52,
   "metadata": {},
   "outputs": [],
   "source": [
    "from langchain.vectorstores import FAISS\n",
    "db = FAISS.from_documents(chunked_data,HuggingFaceEmbeddings(model_name='sentence-transformers/all-mpnet-base-v2'))"
   ]
  },
  {
   "cell_type": "code",
   "execution_count": 91,
   "metadata": {},
   "outputs": [
    {
     "data": {
      "text/plain": [
       "[Document(page_content=': 699131\\nTimestamp: 2020-07-25\\nstation: H.B. Colony, Bhiwani - HSPCB\\nPM2.5: 21.90238095238096\\nPM10: 50.45813953488371\\naddress: Mini Secretariat Office, 3rd Floor, H.B. Colony, Near Zoo, District. Bhiwani.\\ncity: Bhiwani\\nlatitude: 28.806223\\nlongitude: 76.141105\\nstate: Haryana', metadata={'source': 'Time.csv', 'row': 401}),\n",
       " Document(page_content=': 1233252\\nTimestamp: 2023-04-16\\nstation: Motilal Nehru NIT, Prayagraj - UPPCB\\nPM2.5: 16.1696875\\nPM10: 59.0092708333333\\naddress: Barrister Mullah Colony, MNNIT Allahabad Campus, Teliarganj, Prayagraj, Uttar Pradesh\\ncity: Prayagraj\\nlatitude: 25.494\\nlongitude: 81.863\\nstate: Uttar Pradesh', metadata={'source': 'Time.csv', 'row': 505}),\n",
       " Document(page_content=': 1299006\\nTimestamp: 2023-08-17\\nstation: Civic Center, Bhilai - Bhilai Steel Plant\\nPM2.5: 5.151847826086955\\nPM10: 23.78804347826087\\naddress: Back Side of Nehru Art Gallery, Civic center, Bhilai, Chattisgarh\\ncity: Bhilai\\nlatitude: 21.185571\\nlongitude: 81.343175\\nstate: Chhattisgarh', metadata={'source': 'Time.csv', 'row': 922}),\n",
       " Document(page_content=\": 1243132\\nTimestamp: 2023-05-04\\nstation: Sector-7, Kurukshetra - HSPCB\\nPM2.5: 38.14635294117651\\nPM10: 66.22529411764708\\naddress: Deputy Director, Department of Agriculture & Farmer's Welfare, Sector-7, Shahid Major Nitin Bali Marg, Urban Estate.\\ncity: Kurukshetra\\nlatitude: 29.966942\\nlongitude: 76.875879\\nstate: Haryana\", metadata={'source': 'Time.csv', 'row': 414}),\n",
       " Document(page_content=': 1278066\\nTimestamp: 2023-07-09\\nstation: Krishak Nagar, Raipur - CECB\\nPM2.5: 4.382872340425534\\nPM10: 16.76755319148936\\naddress: Guest House, Indira Gandhi Krishi Vishwavidyalaya, Krishak Nagar, Raipur, Chhattisgarh\\ncity: Raipur\\nlatitude: 21.237755\\nlongitude: 81.705301\\nstate: Chhattisgarh', metadata={'source': 'Time.csv', 'row': 497}),\n",
       " Document(page_content=': 585286\\nTimestamp: 2019-12-26\\nstation: Gobind Pura, Yamuna Nagar - HSPCB\\nPM2.5: 93.51282051282053\\nPM10: 127.65555555555562\\naddress: Panchayat Bhawan, Jagadhri Road, Near Gaba Hospital, Yamuna Nagar, Haryana\\ncity: Yamuna Nagar\\nlatitude: 30.1480566\\nlongitude: 77.2893471\\nstate: Haryana', metadata={'source': 'Time.csv', 'row': 616}),\n",
       " Document(page_content=': 1039585\\nTimestamp: 2022-04-20\\nstation: Arya Nagar, Bahadurgarh - HSPCB\\nPM2.5: 99.93097222222224\\nPM10: 249.8445833333333\\naddress: Mini secretariat 301/13, Balaur Rd Kashmiri Colony, Balaur Rd, Kashmiri Colony, Arya Nagar, Bahadurgarh\\ncity: Bahadurgarh\\nlatitude: 28.6701\\nlongitude: 76.9254\\nstate: Haryana', metadata={'source': 'Time.csv', 'row': 596}),\n",
       " Document(page_content=': 1171987\\nTimestamp: 2022-12-23\\nstation: Suryakiran Bhawan NCL, Singrauli - MPPCB\\nPM2.5: 168.7912087912088\\nPM10: 342.17241379310343\\naddress: Surya Kiran Bhawan, Sector-B, Near Nehru Shatabdi Hospital Dudhichua Project, NCL (Northern Coalfields Limited), Singrauli (M.P.) 486888\\ncity: Singrauli\\nlatitude: 24.10897\\nlongitude: 82.64558\\nstate: Madhya Pradesh', metadata={'source': 'Time.csv', 'row': 547}),\n",
       " Document(page_content=': 498293\\nTimestamp: 2019-07-17\\nstation: H.B. Colony, Bhiwani - HSPCB\\nPM2.5: 31.139999999999997\\nPM10: 40.52305084745761\\naddress: Mini Secretariat Office, 3rd Floor, H.B. Colony, Near Zoo, District. Bhiwani.\\ncity: Bhiwani\\nlatitude: 28.806223\\nlongitude: 76.141105\\nstate: Haryana', metadata={'source': 'Time.csv', 'row': 611}),\n",
       " Document(page_content=': 946151\\nTimestamp: 2021-10-28\\nstation: H.B. Colony, Bhiwani - HSPCB\\nPM2.5: 102.92092307692307\\nPM10: 177.22353846153842\\naddress: Mini Secretariat Office, 3rd Floor, H.B. Colony, Near Zoo, District. Bhiwani.\\ncity: Bhiwani\\nlatitude: 28.806223\\nlongitude: 76.141105\\nstate: Haryana', metadata={'source': 'Time.csv', 'row': 984})]"
      ]
     },
     "execution_count": 91,
     "metadata": {},
     "output_type": "execute_result"
    }
   ],
   "source": [
    "db.search(\"Chattisgarh\",search_type='mmr',k = 10)"
   ]
  },
  {
   "cell_type": "code",
   "execution_count": 73,
   "metadata": {},
   "outputs": [],
   "source": [
    "# Connect query to FAISS index using a retriever\n",
    "retriever = db.as_retriever(\n",
    "    search_type=\"similarity\",\n",
    "    search_kwargs={'k': 10}\n",
    ")"
   ]
  },
  {
   "cell_type": "code",
   "execution_count": 53,
   "metadata": {},
   "outputs": [],
   "source": [
    "import langchain \n",
    "from langchain import PromptTemplate, LLMChain\n",
    "from langchain_groq import ChatGroq\n",
    "llm = ChatGroq(temperature=1, model_name=\"llama3-70b-8192\",groq_api_key=\"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\")"
   ]
  },
  {
   "cell_type": "code",
   "execution_count": 74,
   "metadata": {},
   "outputs": [],
   "source": [
    "from langchain.chains import ConversationalRetrievalChain\n",
    "qa_chain = ConversationalRetrievalChain.from_llm(llm, retriever,return_source_documents=True)"
   ]
  },
  {
   "cell_type": "code",
   "execution_count": 75,
   "metadata": {},
   "outputs": [
    {
     "name": "stdout",
     "output_type": "stream",
     "text": [
      "Answer: I don't know. There is no data for Rajasthan in the provided context.\n",
      "\n"
     ]
    }
   ],
   "source": [
    "import sys\n",
    "chat_history = []\n",
    "query = input()\n",
    "# Ask question related CSV file like Which country has highest green gas?\n",
    "result = qa_chain.invoke({'question': query, 'chat_history': chat_history})\n",
    "print('Answer: ' + result['answer'] + '\\n')\n",
    "chat_history.append((query, result['answer']))"
   ]
  }
 ],
 "metadata": {
  "kernelspec": {
   "display_name": "Python 3",
   "language": "python",
   "name": "python3"
  },
  "language_info": {
   "codemirror_mode": {
    "name": "ipython",
    "version": 3
   },
   "file_extension": ".py",
   "mimetype": "text/x-python",
   "name": "python",
   "nbconvert_exporter": "python",
   "pygments_lexer": "ipython3",
   "version": "3.11.0"
  }
 },
 "nbformat": 4,
 "nbformat_minor": 2
}
